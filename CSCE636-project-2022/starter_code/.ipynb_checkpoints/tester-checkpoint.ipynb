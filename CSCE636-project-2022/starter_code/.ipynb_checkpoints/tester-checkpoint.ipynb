{
 "cells": [
  {
   "cell_type": "code",
   "execution_count": 2,
   "id": "0e559f3e",
   "metadata": {},
   "outputs": [],
   "source": [
    "import numpy as np\n",
    "import DataLoader\n",
    "import ImageUtils"
   ]
  },
  {
   "cell_type": "code",
   "execution_count": 3,
   "id": "5862f51a",
   "metadata": {},
   "outputs": [],
   "source": [
    "from skimage.filters import gaussian\n",
    "from skimage.transform import rotate"
   ]
  },
  {
   "cell_type": "code",
   "execution_count": 4,
   "id": "003a483d",
   "metadata": {},
   "outputs": [],
   "source": [
    "?gaussian"
   ]
  },
  {
   "cell_type": "code",
   "execution_count": 1,
   "id": "9091c5ca",
   "metadata": {},
   "outputs": [],
   "source": [
    "from importlib import reload"
   ]
  },
  {
   "cell_type": "code",
   "execution_count": 6,
   "id": "dfe12f50",
   "metadata": {},
   "outputs": [
    {
     "data": {
      "text/plain": [
       "<module 'ImageUtils' from 'C:\\\\Users\\\\phdsa\\\\Documents\\\\deep\\\\CSCE636-project-2022 (1)\\\\starter_code\\\\ImageUtils.py'>"
      ]
     },
     "execution_count": 6,
     "metadata": {},
     "output_type": "execute_result"
    }
   ],
   "source": [
    "reload(ImageUtils)"
   ]
  },
  {
   "cell_type": "code",
   "execution_count": 7,
   "id": "65b8c127",
   "metadata": {},
   "outputs": [],
   "source": [
    "x_train, y_train, x_test, y_test = DataLoader.load_data('../../cifar-10-python.tar/cifar-10-batches-py/')"
   ]
  },
  {
   "cell_type": "code",
   "execution_count": 8,
   "id": "c2e6389d",
   "metadata": {},
   "outputs": [
    {
     "data": {
      "text/plain": [
       "(50000, 3072)"
      ]
     },
     "execution_count": 8,
     "metadata": {},
     "output_type": "execute_result"
    }
   ],
   "source": [
    "x_train.shape"
   ]
  },
  {
   "cell_type": "code",
   "execution_count": 20,
   "id": "e373c7f4",
   "metadata": {},
   "outputs": [
    {
     "data": {
      "text/plain": [
       "(3, 32, 32)"
      ]
     },
     "execution_count": 20,
     "metadata": {},
     "output_type": "execute_result"
    }
   ],
   "source": [
    "temp = x_train[1,:].reshape((3, 32, 32))\n",
    "temp.shape"
   ]
  },
  {
   "cell_type": "code",
   "execution_count": 21,
   "id": "3e3e1371",
   "metadata": {},
   "outputs": [
    {
     "data": {
      "text/plain": [
       "(3, 32, 32)"
      ]
     },
     "execution_count": 21,
     "metadata": {},
     "output_type": "execute_result"
    }
   ],
   "source": [
    "rotate(temp, 15).shape"
   ]
  },
  {
   "cell_type": "code",
   "execution_count": 22,
   "id": "fcef6771",
   "metadata": {},
   "outputs": [
    {
     "name": "stdout",
     "output_type": "stream",
     "text": [
      "blurring\n"
     ]
    }
   ],
   "source": [
    "s = ImageUtils.parse_record(x_train[0,:], True)"
   ]
  },
  {
   "cell_type": "code",
   "execution_count": 23,
   "id": "6078d355",
   "metadata": {},
   "outputs": [],
   "source": [
    "import matplotlib.pyplot as plt"
   ]
  },
  {
   "cell_type": "code",
   "execution_count": 24,
   "id": "d9c8f3a7",
   "metadata": {},
   "outputs": [],
   "source": [
    "s = np.transpose(s, [1, 2, 0])"
   ]
  },
  {
   "cell_type": "code",
   "execution_count": 25,
   "id": "a93e9692",
   "metadata": {},
   "outputs": [
    {
     "name": "stderr",
     "output_type": "stream",
     "text": [
      "Clipping input data to the valid range for imshow with RGB data ([0..1] for floats or [0..255] for integers).\n"
     ]
    },
    {
     "data": {
      "text/plain": [
       "<matplotlib.image.AxesImage at 0x18000194e80>"
      ]
     },
     "execution_count": 25,
     "metadata": {},
     "output_type": "execute_result"
    },
    {
     "data": {
      "image/png": "[encoded data removed]",
      "text/plain": [
       "<Figure size 640x480 with 1 Axes>"
      ]
     },
     "metadata": {},
     "output_type": "display_data"
    }
   ],
   "source": [
    "plt.imshow(s)"
   ]
  },
  {
   "cell_type": "code",
   "execution_count": 26,
   "id": "10e3d5c6",
   "metadata": {},
   "outputs": [],
   "source": [
    "temp_d = np.transpose(temp, [1, 2, 0])"
   ]
  },
  {
   "cell_type": "code",
   "execution_count": 27,
   "id": "129e27c8",
   "metadata": {},
   "outputs": [
    {
     "data": {
      "text/plain": [
       "<matplotlib.image.AxesImage at 0x18000215670>"
      ]
     },
     "execution_count": 27,
     "metadata": {},
     "output_type": "execute_result"
    },
    {
     "data": {
      "image/png": "[encoded data removed]",
      "text/plain": [
       "<Figure size 500x500 with 1 Axes>"
      ]
     },
     "metadata": {},
     "output_type": "display_data"
    }
   ],
   "source": [
    "plt.figure(figsize=(5,5))\n",
    "plt.imshow(temp_d)"
   ]
  },
  {
   "cell_type": "code",
   "execution_count": 19,
   "id": "71972274",
   "metadata": {},
   "outputs": [
    {
     "data": {
      "text/plain": [
       "array([6, 9, 9, ..., 9, 1, 1])"
      ]
     },
     "execution_count": 19,
     "metadata": {},
     "output_type": "execute_result"
    }
   ],
   "source": [
    "y_train"
   ]
  },
  {
   "cell_type": "code",
   "execution_count": 33,
   "id": "2b36501e",
   "metadata": {},
   "outputs": [
    {
     "ename": "SyntaxError",
     "evalue": "invalid syntax (Network.py, line 96)",
     "output_type": "error",
     "traceback": [
      "Traceback \u001b[1;36m(most recent call last)\u001b[0m:\n",
      "  File \u001b[0;32m~\\miniconda3\\envs\\deep\\lib\\site-packages\\IPython\\core\\interactiveshell.py:3398\u001b[0m in \u001b[0;35mrun_code\u001b[0m\n    exec(code_obj, self.user_global_ns, self.user_ns)\n",
      "\u001b[1;36m  Input \u001b[1;32mIn [33]\u001b[1;36m in \u001b[1;35m<cell line: 1>\u001b[1;36m\u001b[0m\n\u001b[1;33m    import Network\u001b[0m\n",
      "\u001b[1;36m  File \u001b[1;32m~\\Documents\\deep\\CSCE636-project-2022 (1)\\starter_code\\Network.py:96\u001b[1;36m\u001b[0m\n\u001b[1;33m    nn.ReLU()\u001b[0m\n\u001b[1;37m    ^\u001b[0m\n\u001b[1;31mSyntaxError\u001b[0m\u001b[1;31m:\u001b[0m invalid syntax\n"
     ]
    }
   ],
   "source": [
    "#import Network"
   ]
  },
  {
   "cell_type": "code",
   "execution_count": 12,
   "id": "2c530e0b",
   "metadata": {},
   "outputs": [],
   "source": [
    "import Network"
   ]
  },
  {
   "cell_type": "code",
   "execution_count": 1,
   "id": "8c9e3922",
   "metadata": {},
   "outputs": [],
   "source": [
    "from importlib import reload\n",
    "#reload(Network)"
   ]
  },
  {
   "cell_type": "code",
   "execution_count": 38,
   "id": "218fc624",
   "metadata": {},
   "outputs": [],
   "source": [
    "class Configs():\n",
    "    def __init__(self):\n",
    "        self.classes = 10\n",
    "        self.block_size = 3"
   ]
  },
  {
   "cell_type": "code",
   "execution_count": 39,
   "id": "5891dd36",
   "metadata": {},
   "outputs": [],
   "source": [
    "configs = Configs()"
   ]
  },
  {
   "cell_type": "code",
   "execution_count": 41,
   "id": "03a2383c",
   "metadata": {},
   "outputs": [
    {
     "data": {
      "text/plain": [
       "3"
      ]
     },
     "execution_count": 41,
     "metadata": {},
     "output_type": "execute_result"
    }
   ],
   "source": [
    "configs.block_size"
   ]
  },
  {
   "cell_type": "code",
   "execution_count": 14,
   "id": "ebe0bbc6",
   "metadata": {},
   "outputs": [],
   "source": [
    "model = Network.MyNetwork(3, 10, 16)"
   ]
  },
  {
   "cell_type": "code",
   "execution_count": 15,
   "id": "28bf6706",
   "metadata": {},
   "outputs": [
    {
     "data": {
      "text/plain": [
       "MyNetwork(\n",
       "  (stack_layers): ModuleList(\n",
       "    (0): stack_layer(\n",
       "      (stack_layers): ModuleList(\n",
       "        (0): NFNet_Block(\n",
       "          (projection_shortcut): Conv2d_modified(16, 64, kernel_size=(1, 1), stride=(1, 1))\n",
       "          (block_seq): Sequential(\n",
       "            (0): Conv2d_modified(16, 16, kernel_size=(1, 1), stride=(1, 1))\n",
       "            (1): ReLU()\n",
       "            (2): Conv2d_modified(16, 16, kernel_size=(3, 3), stride=(1, 1), padding=(1, 1))\n",
       "            (3): ReLU()\n",
       "            (4): Conv2d_modified(16, 16, kernel_size=(3, 3), stride=(1, 1), padding=(1, 1))\n",
       "            (5): ReLU()\n",
       "            (6): Conv2d_modified(16, 64, kernel_size=(1, 1), stride=(1, 1))\n",
       "          )\n",
       "        )\n",
       "        (1): NFNet_Block(\n",
       "          (block_seq): Sequential(\n",
       "            (0): Conv2d_modified(64, 16, kernel_size=(1, 1), stride=(1, 1))\n",
       "            (1): ReLU()\n",
       "            (2): Conv2d_modified(16, 16, kernel_size=(3, 3), stride=(1, 1), padding=(1, 1))\n",
       "            (3): ReLU()\n",
       "            (4): Conv2d_modified(16, 16, kernel_size=(3, 3), stride=(1, 1), padding=(1, 1))\n",
       "            (5): ReLU()\n",
       "            (6): Conv2d_modified(16, 64, kernel_size=(1, 1), stride=(1, 1))\n",
       "          )\n",
       "        )\n",
       "        (2): NFNet_Block(\n",
       "          (block_seq): Sequential(\n",
       "            (0): Conv2d_modified(64, 16, kernel_size=(1, 1), stride=(1, 1))\n",
       "            (1): ReLU()\n",
       "            (2): Conv2d_modified(16, 16, kernel_size=(3, 3), stride=(1, 1), padding=(1, 1))\n",
       "            (3): ReLU()\n",
       "            (4): Conv2d_modified(16, 16, kernel_size=(3, 3), stride=(1, 1), padding=(1, 1))\n",
       "            (5): ReLU()\n",
       "            (6): Conv2d_modified(16, 64, kernel_size=(1, 1), stride=(1, 1))\n",
       "          )\n",
       "        )\n",
       "      )\n",
       "    )\n",
       "    (1): stack_layer(\n",
       "      (stack_layers): ModuleList(\n",
       "        (0): NFNet_Block(\n",
       "          (projection_shortcut): Conv2d_modified(64, 128, kernel_size=(1, 1), stride=(2, 2))\n",
       "          (block_seq): Sequential(\n",
       "            (0): Conv2d_modified(64, 32, kernel_size=(1, 1), stride=(2, 2))\n",
       "            (1): ReLU()\n",
       "            (2): Conv2d_modified(32, 32, kernel_size=(3, 3), stride=(1, 1), padding=(1, 1))\n",
       "            (3): ReLU()\n",
       "            (4): Conv2d_modified(32, 32, kernel_size=(3, 3), stride=(1, 1), padding=(1, 1))\n",
       "            (5): ReLU()\n",
       "            (6): Conv2d_modified(32, 128, kernel_size=(1, 1), stride=(1, 1))\n",
       "          )\n",
       "        )\n",
       "        (1): NFNet_Block(\n",
       "          (block_seq): Sequential(\n",
       "            (0): Conv2d_modified(128, 32, kernel_size=(1, 1), stride=(1, 1))\n",
       "            (1): ReLU()\n",
       "            (2): Conv2d_modified(32, 32, kernel_size=(3, 3), stride=(1, 1), padding=(1, 1))\n",
       "            (3): ReLU()\n",
       "            (4): Conv2d_modified(32, 32, kernel_size=(3, 3), stride=(1, 1), padding=(1, 1))\n",
       "            (5): ReLU()\n",
       "            (6): Conv2d_modified(32, 128, kernel_size=(1, 1), stride=(1, 1))\n",
       "          )\n",
       "        )\n",
       "        (2): NFNet_Block(\n",
       "          (block_seq): Sequential(\n",
       "            (0): Conv2d_modified(128, 32, kernel_size=(1, 1), stride=(1, 1))\n",
       "            (1): ReLU()\n",
       "            (2): Conv2d_modified(32, 32, kernel_size=(3, 3), stride=(1, 1), padding=(1, 1))\n",
       "            (3): ReLU()\n",
       "            (4): Conv2d_modified(32, 32, kernel_size=(3, 3), stride=(1, 1), padding=(1, 1))\n",
       "            (5): ReLU()\n",
       "            (6): Conv2d_modified(32, 128, kernel_size=(1, 1), stride=(1, 1))\n",
       "          )\n",
       "        )\n",
       "      )\n",
       "    )\n",
       "    (2): stack_layer(\n",
       "      (stack_layers): ModuleList(\n",
       "        (0): NFNet_Block(\n",
       "          (projection_shortcut): Conv2d_modified(128, 256, kernel_size=(1, 1), stride=(2, 2))\n",
       "          (block_seq): Sequential(\n",
       "            (0): Conv2d_modified(128, 64, kernel_size=(1, 1), stride=(2, 2))\n",
       "            (1): ReLU()\n",
       "            (2): Conv2d_modified(64, 64, kernel_size=(3, 3), stride=(1, 1), padding=(1, 1))\n",
       "            (3): ReLU()\n",
       "            (4): Conv2d_modified(64, 64, kernel_size=(3, 3), stride=(1, 1), padding=(1, 1))\n",
       "            (5): ReLU()\n",
       "            (6): Conv2d_modified(64, 256, kernel_size=(1, 1), stride=(1, 1))\n",
       "          )\n",
       "        )\n",
       "        (1): NFNet_Block(\n",
       "          (block_seq): Sequential(\n",
       "            (0): Conv2d_modified(256, 64, kernel_size=(1, 1), stride=(1, 1))\n",
       "            (1): ReLU()\n",
       "            (2): Conv2d_modified(64, 64, kernel_size=(3, 3), stride=(1, 1), padding=(1, 1))\n",
       "            (3): ReLU()\n",
       "            (4): Conv2d_modified(64, 64, kernel_size=(3, 3), stride=(1, 1), padding=(1, 1))\n",
       "            (5): ReLU()\n",
       "            (6): Conv2d_modified(64, 256, kernel_size=(1, 1), stride=(1, 1))\n",
       "          )\n",
       "        )\n",
       "        (2): NFNet_Block(\n",
       "          (block_seq): Sequential(\n",
       "            (0): Conv2d_modified(256, 64, kernel_size=(1, 1), stride=(1, 1))\n",
       "            (1): ReLU()\n",
       "            (2): Conv2d_modified(64, 64, kernel_size=(3, 3), stride=(1, 1), padding=(1, 1))\n",
       "            (3): ReLU()\n",
       "            (4): Conv2d_modified(64, 64, kernel_size=(3, 3), stride=(1, 1), padding=(1, 1))\n",
       "            (5): ReLU()\n",
       "            (6): Conv2d_modified(64, 256, kernel_size=(1, 1), stride=(1, 1))\n",
       "          )\n",
       "        )\n",
       "      )\n",
       "    )\n",
       "  )\n",
       "  (start_layer): Conv2d_modified(3, 16, kernel_size=(3, 3), stride=(1, 1), padding=(1, 1))\n",
       "  (output_layer): output_layer(\n",
       "    (avg_pool): AvgPool2d(kernel_size=8, stride=8, padding=0)\n",
       "    (fc): Linear(in_features=256, out_features=10, bias=True)\n",
       "  )\n",
       ")"
      ]
     },
     "execution_count": 15,
     "metadata": {},
     "output_type": "execute_result"
    }
   ],
   "source": [
    "model.cuda()"
   ]
  },
  {
   "cell_type": "code",
   "execution_count": 16,
   "id": "04a74e80",
   "metadata": {},
   "outputs": [],
   "source": [
    "from torchsummary import summary"
   ]
  },
  {
   "cell_type": "code",
   "execution_count": 17,
   "id": "c7eec580",
   "metadata": {},
   "outputs": [
    {
     "data": {
      "text/plain": [
       "<function torchsummary.torchsummary.summary(model, input_size, batch_size=-1, device='cuda')>"
      ]
     },
     "execution_count": 17,
     "metadata": {},
     "output_type": "execute_result"
    }
   ],
   "source": [
    "summary"
   ]
  },
  {
   "cell_type": "code",
   "execution_count": 18,
   "id": "d988eace",
   "metadata": {},
   "outputs": [
    {
     "name": "stdout",
     "output_type": "stream",
     "text": [
      "----------------------------------------------------------------\n",
      "        Layer (type)               Output Shape         Param #\n",
      "================================================================\n",
      "   Conv2d_modified-1           [-1, 16, 32, 32]             448\n",
      "   Conv2d_modified-2           [-1, 16, 32, 32]             272\n",
      "              ReLU-3           [-1, 16, 32, 32]               0\n",
      "   Conv2d_modified-4           [-1, 16, 32, 32]           2,320\n",
      "              ReLU-5           [-1, 16, 32, 32]               0\n",
      "   Conv2d_modified-6           [-1, 16, 32, 32]           2,320\n",
      "              ReLU-7           [-1, 16, 32, 32]               0\n",
      "   Conv2d_modified-8           [-1, 64, 32, 32]           1,088\n",
      "   Conv2d_modified-9           [-1, 64, 32, 32]           1,088\n",
      "      NFNet_Block-10           [-1, 64, 32, 32]               0\n",
      "  Conv2d_modified-11           [-1, 16, 32, 32]           1,040\n",
      "             ReLU-12           [-1, 16, 32, 32]               0\n",
      "  Conv2d_modified-13           [-1, 16, 32, 32]           2,320\n",
      "             ReLU-14           [-1, 16, 32, 32]               0\n",
      "  Conv2d_modified-15           [-1, 16, 32, 32]           2,320\n",
      "             ReLU-16           [-1, 16, 32, 32]               0\n",
      "  Conv2d_modified-17           [-1, 64, 32, 32]           1,088\n",
      "      NFNet_Block-18           [-1, 64, 32, 32]               0\n",
      "  Conv2d_modified-19           [-1, 16, 32, 32]           1,040\n",
      "             ReLU-20           [-1, 16, 32, 32]               0\n",
      "  Conv2d_modified-21           [-1, 16, 32, 32]           2,320\n",
      "             ReLU-22           [-1, 16, 32, 32]               0\n",
      "  Conv2d_modified-23           [-1, 16, 32, 32]           2,320\n",
      "             ReLU-24           [-1, 16, 32, 32]               0\n",
      "  Conv2d_modified-25           [-1, 64, 32, 32]           1,088\n",
      "      NFNet_Block-26           [-1, 64, 32, 32]               0\n",
      "      stack_layer-27           [-1, 64, 32, 32]               0\n",
      "  Conv2d_modified-28           [-1, 32, 16, 16]           2,080\n",
      "             ReLU-29           [-1, 32, 16, 16]               0\n",
      "  Conv2d_modified-30           [-1, 32, 16, 16]           9,248\n",
      "             ReLU-31           [-1, 32, 16, 16]               0\n",
      "  Conv2d_modified-32           [-1, 32, 16, 16]           9,248\n",
      "             ReLU-33           [-1, 32, 16, 16]               0\n",
      "  Conv2d_modified-34          [-1, 128, 16, 16]           4,224\n",
      "  Conv2d_modified-35          [-1, 128, 16, 16]           8,320\n",
      "      NFNet_Block-36          [-1, 128, 16, 16]               0\n",
      "  Conv2d_modified-37           [-1, 32, 16, 16]           4,128\n",
      "             ReLU-38           [-1, 32, 16, 16]               0\n",
      "  Conv2d_modified-39           [-1, 32, 16, 16]           9,248\n",
      "             ReLU-40           [-1, 32, 16, 16]               0\n",
      "  Conv2d_modified-41           [-1, 32, 16, 16]           9,248\n",
      "             ReLU-42           [-1, 32, 16, 16]               0\n",
      "  Conv2d_modified-43          [-1, 128, 16, 16]           4,224\n",
      "      NFNet_Block-44          [-1, 128, 16, 16]               0\n",
      "  Conv2d_modified-45           [-1, 32, 16, 16]           4,128\n",
      "             ReLU-46           [-1, 32, 16, 16]               0\n",
      "  Conv2d_modified-47           [-1, 32, 16, 16]           9,248\n",
      "             ReLU-48           [-1, 32, 16, 16]               0\n",
      "  Conv2d_modified-49           [-1, 32, 16, 16]           9,248\n",
      "             ReLU-50           [-1, 32, 16, 16]               0\n",
      "  Conv2d_modified-51          [-1, 128, 16, 16]           4,224\n",
      "      NFNet_Block-52          [-1, 128, 16, 16]               0\n",
      "      stack_layer-53          [-1, 128, 16, 16]               0\n",
      "  Conv2d_modified-54             [-1, 64, 8, 8]           8,256\n",
      "             ReLU-55             [-1, 64, 8, 8]               0\n",
      "  Conv2d_modified-56             [-1, 64, 8, 8]          36,928\n",
      "             ReLU-57             [-1, 64, 8, 8]               0\n",
      "  Conv2d_modified-58             [-1, 64, 8, 8]          36,928\n",
      "             ReLU-59             [-1, 64, 8, 8]               0\n",
      "  Conv2d_modified-60            [-1, 256, 8, 8]          16,640\n",
      "  Conv2d_modified-61            [-1, 256, 8, 8]          33,024\n",
      "      NFNet_Block-62            [-1, 256, 8, 8]               0\n",
      "  Conv2d_modified-63             [-1, 64, 8, 8]          16,448\n",
      "             ReLU-64             [-1, 64, 8, 8]               0\n",
      "  Conv2d_modified-65             [-1, 64, 8, 8]          36,928\n",
      "             ReLU-66             [-1, 64, 8, 8]               0\n",
      "  Conv2d_modified-67             [-1, 64, 8, 8]          36,928\n",
      "             ReLU-68             [-1, 64, 8, 8]               0\n",
      "  Conv2d_modified-69            [-1, 256, 8, 8]          16,640\n",
      "      NFNet_Block-70            [-1, 256, 8, 8]               0\n",
      "  Conv2d_modified-71             [-1, 64, 8, 8]          16,448\n",
      "             ReLU-72             [-1, 64, 8, 8]               0\n",
      "  Conv2d_modified-73             [-1, 64, 8, 8]          36,928\n",
      "             ReLU-74             [-1, 64, 8, 8]               0\n",
      "  Conv2d_modified-75             [-1, 64, 8, 8]          36,928\n",
      "             ReLU-76             [-1, 64, 8, 8]               0\n",
      "  Conv2d_modified-77            [-1, 256, 8, 8]          16,640\n",
      "      NFNet_Block-78            [-1, 256, 8, 8]               0\n",
      "      stack_layer-79            [-1, 256, 8, 8]               0\n",
      "        AvgPool2d-80            [-1, 256, 1, 1]               0\n",
      "           Linear-81                   [-1, 10]           2,570\n",
      "     output_layer-82                   [-1, 10]               0\n",
      "================================================================\n",
      "Total params: 456,122\n",
      "Trainable params: 456,122\n",
      "Non-trainable params: 0\n",
      "----------------------------------------------------------------\n",
      "Input size (MB): 0.01\n",
      "Forward/backward pass size (MB): 11.06\n",
      "Params size (MB): 1.74\n",
      "Estimated Total Size (MB): 12.82\n",
      "----------------------------------------------------------------\n"
     ]
    }
   ],
   "source": [
    "summary(model, (3, 32, 32))"
   ]
  },
  {
   "cell_type": "code",
   "execution_count": 60,
   "id": "7cdece8e",
   "metadata": {},
   "outputs": [],
   "source": [
    "#Network.Conv2d_modified(3, 4, 2).weight"
   ]
  },
  {
   "cell_type": "code",
   "execution_count": 19,
   "id": "7b0bbca0",
   "metadata": {},
   "outputs": [],
   "source": [
    "## test driving the training part"
   ]
  },
  {
   "cell_type": "code",
   "execution_count": null,
   "id": "eacf2878",
   "metadata": {},
   "outputs": [],
   "source": []
  },
  {
   "cell_type": "code",
   "execution_count": 10,
   "id": "a61085ad",
   "metadata": {},
   "outputs": [],
   "source": [
    "from importlib import reload"
   ]
  },
  {
   "cell_type": "code",
   "execution_count": 2,
   "id": "87054ccc",
   "metadata": {},
   "outputs": [
    {
     "data": {
      "text/plain": [
       "<module 'DataLoader' from 'C:\\\\Users\\\\phdsa\\\\Documents\\\\deep\\\\CSCE636-project-2022 (1)\\\\starter_code\\\\DataLoader.py'>"
      ]
     },
     "execution_count": 2,
     "metadata": {},
     "output_type": "execute_result"
    }
   ],
   "source": [
    "import DataLoader\n",
    "reload(DataLoader)"
   ]
  },
  {
   "cell_type": "code",
   "execution_count": 3,
   "id": "cfda69ca",
   "metadata": {},
   "outputs": [],
   "source": [
    "from DataLoader import load_data, train_valid_split"
   ]
  },
  {
   "cell_type": "code",
   "execution_count": 4,
   "id": "8d319220",
   "metadata": {},
   "outputs": [],
   "source": [
    "data_dir = '../../cifar-10-python.tar/cifar-10-batches-py/'"
   ]
  },
  {
   "cell_type": "code",
   "execution_count": 5,
   "id": "68178282",
   "metadata": {},
   "outputs": [],
   "source": [
    "x_train, y_train, x_test, y_test = load_data(data_dir)\n",
    "x_train_new, y_train_new, x_valid, y_valid = train_valid_split(x_train, y_train)"
   ]
  },
  {
   "cell_type": "code",
   "execution_count": 53,
   "id": "10ad5c15",
   "metadata": {},
   "outputs": [],
   "source": [
    "from Model import MyModel"
   ]
  },
  {
   "cell_type": "code",
   "execution_count": 64,
   "id": "6287421e",
   "metadata": {},
   "outputs": [],
   "source": [
    "del MyModel"
   ]
  },
  {
   "cell_type": "code",
   "execution_count": 52,
   "id": "7e0893fd",
   "metadata": {},
   "outputs": [
    {
     "data": {
      "text/plain": [
       "<module 'Model' from 'C:\\\\Users\\\\phdsa\\\\Documents\\\\deep\\\\CSCE636-project-2022 (1)\\\\starter_code\\\\Model.py'>"
      ]
     },
     "execution_count": 52,
     "metadata": {},
     "output_type": "execute_result"
    }
   ],
   "source": [
    "import Model\n",
    "reload(Model)"
   ]
  },
  {
   "cell_type": "code",
   "execution_count": 51,
   "id": "36f3429a",
   "metadata": {},
   "outputs": [
    {
     "data": {
      "text/plain": [
       "<module 'Network' from 'C:\\\\Users\\\\phdsa\\\\Documents\\\\deep\\\\CSCE636-project-2022 (1)\\\\starter_code\\\\Network.py'>"
      ]
     },
     "execution_count": 51,
     "metadata": {},
     "output_type": "execute_result"
    }
   ],
   "source": [
    "import Network\n",
    "reload(Network)"
   ]
  },
  {
   "cell_type": "code",
   "execution_count": 35,
   "id": "b26049d8",
   "metadata": {},
   "outputs": [],
   "source": [
    "#?MyModel\n",
    "import torch"
   ]
  },
  {
   "cell_type": "code",
   "execution_count": 63,
   "id": "5cab6e41",
   "metadata": {},
   "outputs": [],
   "source": [
    "class Configs():\n",
    "    def __init__(self):\n",
    "        self.classes = 10\n",
    "        self.block_size = 3\n",
    "        self.first_num_filters = 16\n",
    "        self.weight_decay = 2e-4\n",
    "        self.batch_size = 32\n",
    "        self.lr = 0.01\n",
    "        self.save_interval = 1\n",
    "        self.save_dir = '../saved_models/'"
   ]
  },
  {
   "cell_type": "code",
   "execution_count": 14,
   "id": "39de53ee",
   "metadata": {},
   "outputs": [
    {
     "data": {
      "text/plain": [
       "((40000, 3072), (10000, 3072))"
      ]
     },
     "execution_count": 14,
     "metadata": {},
     "output_type": "execute_result"
    }
   ],
   "source": [
    "x_train_new.shape, x_valid.shape"
   ]
  },
  {
   "cell_type": "code",
   "execution_count": 65,
   "id": "a7a5b466",
   "metadata": {},
   "outputs": [],
   "source": [
    "config = Configs()"
   ]
  },
  {
   "cell_type": "code",
   "execution_count": 36,
   "id": "2d34938c",
   "metadata": {},
   "outputs": [],
   "source": [
    "device = torch.device('cpu')"
   ]
  },
  {
   "cell_type": "code",
   "execution_count": 66,
   "id": "6f4a567b",
   "metadata": {},
   "outputs": [],
   "source": [
    "model = MyModel(config)"
   ]
  },
  {
   "cell_type": "code",
   "execution_count": 60,
   "id": "f7136b34",
   "metadata": {},
   "outputs": [],
   "source": [
    "class train_Configs():\n",
    "    def __init__(self):\n",
    "        self.batch_size = 32\n",
    "        self.learning_rate = 0.01\n",
    "        self.save_interval = 1\n",
    "        self.max_epoch = 3"
   ]
  },
  {
   "cell_type": "code",
   "execution_count": 61,
   "id": "e9c0b220",
   "metadata": {},
   "outputs": [],
   "source": [
    "train_epoch = train_Configs()"
   ]
  },
  {
   "cell_type": "code",
   "execution_count": 67,
   "id": "86eec1fc",
   "metadata": {
    "scrolled": true
   },
   "outputs": [
    {
     "name": "stdout",
     "output_type": "stream",
     "text": [
      "### Training... ###\n",
      "Epoch 1 Loss 1.807133 Duration 157.667 seconds.\n",
      "Checkpoint has been created.\n",
      "### Evaluate on evaluation set ###\n"
     ]
    },
    {
     "name": "stderr",
     "output_type": "stream",
     "text": [
      "100%|████████████████████████████████████████████████████████████████████████████████| 157/157 [00:06<00:00, 23.32it/s]\n"
     ]
    },
    {
     "name": "stdout",
     "output_type": "stream",
     "text": [
      "Test accuracy: 0.4545\n",
      "validation accuracy after epoch 1 is 0.4545\n",
      "Epoch 2 Loss 1.470286 Duration 161.872 seconds.\n",
      "Checkpoint has been created.\n",
      "### Evaluate on evaluation set ###\n"
     ]
    },
    {
     "name": "stderr",
     "output_type": "stream",
     "text": [
      "100%|████████████████████████████████████████████████████████████████████████████████| 157/157 [00:07<00:00, 21.63it/s]\n"
     ]
    },
    {
     "name": "stdout",
     "output_type": "stream",
     "text": [
      "Test accuracy: 0.4731\n",
      "validation accuracy after epoch 2 is 0.4731\n",
      "Epoch 3 Loss 1.277321 Duration 165.299 seconds.\n",
      "Checkpoint has been created.\n",
      "### Evaluate on evaluation set ###\n"
     ]
    },
    {
     "name": "stderr",
     "output_type": "stream",
     "text": [
      "100%|████████████████████████████████████████████████████████████████████████████████| 157/157 [00:06<00:00, 23.14it/s]\n"
     ]
    },
    {
     "name": "stdout",
     "output_type": "stream",
     "text": [
      "Test accuracy: 0.6162\n",
      "validation accuracy after epoch 3 is 0.6162\n"
     ]
    }
   ],
   "source": [
    "model.train(x_train_new, y_train_new, train_epoch, x_valid, y_valid)"
   ]
  },
  {
   "cell_type": "code",
   "execution_count": 68,
   "id": "780d4ef5",
   "metadata": {},
   "outputs": [],
   "source": [
    "a = {'a':1}"
   ]
  },
  {
   "cell_type": "code",
   "execution_count": 70,
   "id": "ba07d30d",
   "metadata": {},
   "outputs": [
    {
     "data": {
      "text/plain": [
       "1"
      ]
     },
     "execution_count": 70,
     "metadata": {},
     "output_type": "execute_result"
    }
   ],
   "source": [
    "a['a']"
   ]
  },
  {
   "cell_type": "code",
   "execution_count": 123,
   "id": "9f8e775a",
   "metadata": {},
   "outputs": [
    {
     "data": {
      "text/plain": [
       "(9999, 3072)"
      ]
     },
     "execution_count": 123,
     "metadata": {},
     "output_type": "execute_result"
    }
   ],
   "source": [
    "x_valid[:-1,].shape"
   ]
  },
  {
   "cell_type": "code",
   "execution_count": 124,
   "id": "5dc4c141",
   "metadata": {},
   "outputs": [
    {
     "data": {
      "text/plain": [
       "156.25"
      ]
     },
     "execution_count": 124,
     "metadata": {},
     "output_type": "execute_result"
    }
   ],
   "source": [
    "#device\n",
    "#writing output\n",
    "#main script"
   ]
  },
  {
   "cell_type": "code",
   "execution_count": 148,
   "id": "c96d62da",
   "metadata": {},
   "outputs": [
    {
     "name": "stdout",
     "output_type": "stream",
     "text": [
      "### Evaluate on evaluation set ###\n"
     ]
    },
    {
     "name": "stderr",
     "output_type": "stream",
     "text": [
      "100%|████████████████████████████████████████████████████████████████████████████████| 157/157 [00:07<00:00, 21.66it/s]\n"
     ]
    },
    {
     "name": "stdout",
     "output_type": "stream",
     "text": [
      "Test accuracy: 0.8217\n"
     ]
    },
    {
     "data": {
      "text/plain": [
       "0.8217"
      ]
     },
     "execution_count": 148,
     "metadata": {},
     "output_type": "execute_result"
    }
   ],
   "source": [
    "model.evaluate(x_valid, y_valid)"
   ]
  },
  {
   "cell_type": "code",
   "execution_count": 93,
   "id": "ccca3dd4",
   "metadata": {},
   "outputs": [
    {
     "data": {
      "text/plain": [
       "1250"
      ]
     },
     "execution_count": 93,
     "metadata": {},
     "output_type": "execute_result"
    }
   ],
   "source": [
    "40000 // 32"
   ]
  },
  {
   "cell_type": "code",
   "execution_count": 95,
   "id": "1dbd5f81",
   "metadata": {},
   "outputs": [
    {
     "data": {
      "text/plain": [
       "0"
      ]
     },
     "execution_count": 95,
     "metadata": {},
     "output_type": "execute_result"
    }
   ],
   "source": [
    "40000 % 32"
   ]
  },
  {
   "cell_type": "code",
   "execution_count": null,
   "id": "38198118",
   "metadata": {},
   "outputs": [],
   "source": [
    "1250"
   ]
  },
  {
   "cell_type": "code",
   "execution_count": 53,
   "id": "95807ed9",
   "metadata": {},
   "outputs": [
    {
     "name": "stdout",
     "output_type": "stream",
     "text": [
      "yes\n"
     ]
    }
   ],
   "source": [
    "a = (3,4)\n",
    "if type(a) == tuple:\n",
    "    print(\"yes\")"
   ]
  },
  {
   "cell_type": "code",
   "execution_count": 59,
   "id": "a8386ff8",
   "metadata": {},
   "outputs": [],
   "source": [
    "import torch\n",
    "import math"
   ]
  },
  {
   "cell_type": "code",
   "execution_count": 55,
   "id": "8dbe7246",
   "metadata": {},
   "outputs": [],
   "source": [
    "a = torch.randn(4)"
   ]
  },
  {
   "cell_type": "code",
   "execution_count": 60,
   "id": "d77734fa",
   "metadata": {},
   "outputs": [
    {
     "data": {
      "text/plain": [
       "tensor([-0.1023, -1.4547,  1.0775, -0.6000])"
      ]
     },
     "execution_count": 60,
     "metadata": {},
     "output_type": "execute_result"
    }
   ],
   "source": [
    "a/math.sqrt(2)"
   ]
  },
  {
   "cell_type": "code",
   "execution_count": 4,
   "id": "66969387",
   "metadata": {},
   "outputs": [
    {
     "ename": "NameError",
     "evalue": "name 'gfg_decorator' is not defined",
     "output_type": "error",
     "traceback": [
      "\u001b[1;31m---------------------------------------------------------------------------\u001b[0m",
      "\u001b[1;31mNameError\u001b[0m                                 Traceback (most recent call last)",
      "Input \u001b[1;32mIn [4]\u001b[0m, in \u001b[0;36m<cell line: 1>\u001b[1;34m()\u001b[0m\n\u001b[1;32m----> 1\u001b[0m \u001b[38;5;129m@gfg_decorator\u001b[39m\n\u001b[0;32m      2\u001b[0m \u001b[38;5;28;01mdef\u001b[39;00m \u001b[38;5;21mf\u001b[39m():\n\u001b[0;32m      3\u001b[0m     \u001b[38;5;28mprint\u001b[39m(\u001b[38;5;124m\"\u001b[39m\u001b[38;5;124myes\u001b[39m\u001b[38;5;124m\"\u001b[39m)\n",
      "\u001b[1;31mNameError\u001b[0m: name 'gfg_decorator' is not defined"
     ]
    }
   ],
   "source": [
    "@gfg_decorator\n",
    "def f():\n",
    "    print(\"yes\")"
   ]
  },
  {
   "cell_type": "code",
   "execution_count": 2,
   "id": "58e22447",
   "metadata": {},
   "outputs": [
    {
     "ename": "NameError",
     "evalue": "name 'decorator_function' is not defined",
     "output_type": "error",
     "traceback": [
      "\u001b[1;31m---------------------------------------------------------------------------\u001b[0m",
      "\u001b[1;31mNameError\u001b[0m                                 Traceback (most recent call last)",
      "Input \u001b[1;32mIn [2]\u001b[0m, in \u001b[0;36m<cell line: 1>\u001b[1;34m()\u001b[0m\n\u001b[1;32m----> 1\u001b[0m dec \u001b[38;5;241m=\u001b[39m \u001b[43mdecorator_function\u001b[49m(f)\n",
      "\u001b[1;31mNameError\u001b[0m: name 'decorator_function' is not defined"
     ]
    }
   ],
   "source": [
    "dec = decorator_function(f)"
   ]
  },
  {
   "cell_type": "code",
   "execution_count": null,
   "id": "47c6a3dc",
   "metadata": {},
   "outputs": [],
   "source": [
    "@gfg_decorator\n",
    "def hello_decorator():\n",
    "    print(\"Gfg\")\n",
    "\n",
    "'''Above code is equivalent to -\n",
    "\n",
    "def hello_decorator():\n",
    "    print(\"Gfg\")\n",
    "    \n",
    "hello_decorator = gfg_decorator(hello_decorator)'''"
   ]
  },
  {
   "cell_type": "code",
   "execution_count": 31,
   "id": "eb3cf5bc",
   "metadata": {},
   "outputs": [],
   "source": [
    "import foo"
   ]
  },
  {
   "cell_type": "code",
   "execution_count": 32,
   "id": "46ce3b01",
   "metadata": {},
   "outputs": [],
   "source": [
    "foo.var = 9"
   ]
  },
  {
   "cell_type": "code",
   "execution_count": 25,
   "id": "12aa4325",
   "metadata": {},
   "outputs": [
    {
     "data": {
      "text/plain": [
       "9"
      ]
     },
     "execution_count": 25,
     "metadata": {},
     "output_type": "execute_result"
    }
   ],
   "source": [
    "foo.var"
   ]
  },
  {
   "cell_type": "code",
   "execution_count": 11,
   "id": "0b7e6ca7",
   "metadata": {},
   "outputs": [
    {
     "data": {
      "text/plain": [
       "<module 'foo' from 'C:\\\\Users\\\\phdsa\\\\Documents\\\\deep\\\\CSCE636-project-2022 (1)\\\\starter_code\\\\foo.py'>"
      ]
     },
     "execution_count": 11,
     "metadata": {},
     "output_type": "execute_result"
    }
   ],
   "source": [
    "reload(foo)"
   ]
  },
  {
   "cell_type": "code",
   "execution_count": 28,
   "id": "09143591",
   "metadata": {},
   "outputs": [],
   "source": [
    "import foo"
   ]
  },
  {
   "cell_type": "code",
   "execution_count": 29,
   "id": "5375fefc",
   "metadata": {},
   "outputs": [
    {
     "data": {
      "text/plain": [
       "9"
      ]
     },
     "execution_count": 29,
     "metadata": {},
     "output_type": "execute_result"
    }
   ],
   "source": [
    "foo.var"
   ]
  },
  {
   "cell_type": "code",
   "execution_count": 35,
   "id": "108317ea",
   "metadata": {},
   "outputs": [],
   "source": [
    "class I():\n",
    "    num = 0\n",
    "    def __init__(self):\n",
    "        self.num = 0\n",
    "    def method(self):\n",
    "        return\n",
    "    def methodA(self):\n",
    "        I.num = 0\n",
    "    def methodB(self):\n",
    "        I.num = I.num + 1\n",
    "    def methodC(self):\n",
    "        self.num += 1\n",
    "    def methodD(cls):\n",
    "        I.num = I.num + 1\n",
    "    methodD = classmethod(methodD)\n",
    "    def methodE(cls):\n",
    "        return I.num\n",
    "    methodE = classmethod(methodE)\n",
    "    def methodF():\n",
    "        return I.num\n",
    "    methodF = staticmethod(methodF)\n",
    "    def methodG(self):\n",
    "        self.num += 1\n",
    "    def methodH(self):\n",
    "        self.num = I.num\n",
    "        return self.num"
   ]
  },
  {
   "cell_type": "code",
   "execution_count": 38,
   "id": "1ca1ece1",
   "metadata": {},
   "outputs": [],
   "source": [
    "K = I()"
   ]
  },
  {
   "cell_type": "code",
   "execution_count": 43,
   "id": "56b4d178",
   "metadata": {},
   "outputs": [],
   "source": [
    "K.methodG()"
   ]
  },
  {
   "cell_type": "code",
   "execution_count": 44,
   "id": "abd4a3de",
   "metadata": {},
   "outputs": [
    {
     "data": {
      "text/plain": [
       "2"
      ]
     },
     "execution_count": 44,
     "metadata": {},
     "output_type": "execute_result"
    }
   ],
   "source": [
    "K.num"
   ]
  },
  {
   "cell_type": "code",
   "execution_count": null,
   "id": "b4c148e6",
   "metadata": {},
   "outputs": [],
   "source": [
    "im"
   ]
  },
  {
   "cell_type": "code",
   "execution_count": 55,
   "id": "32997f75",
   "metadata": {},
   "outputs": [],
   "source": [
    "pat = \"\\\\\\\\\""
   ]
  },
  {
   "cell_type": "code",
   "execution_count": 46,
   "id": "1e32b476",
   "metadata": {},
   "outputs": [],
   "source": [
    "u = \"this is \\ the match\""
   ]
  },
  {
   "cell_type": "code",
   "execution_count": 56,
   "id": "f4b89cc0",
   "metadata": {},
   "outputs": [
    {
     "data": {
      "text/plain": [
       "['this is \\\\ the match']"
      ]
     },
     "execution_count": 56,
     "metadata": {},
     "output_type": "execute_result"
    }
   ],
   "source": [
    "u.split(pat)"
   ]
  },
  {
   "cell_type": "code",
   "execution_count": null,
   "id": "a7fcfbe0",
   "metadata": {},
   "outputs": [],
   "source": [
    "re.match(pat, u)"
   ]
  },
  {
   "cell_type": "code",
   "execution_count": null,
   "id": "0eb791a8",
   "metadata": {},
   "outputs": [],
   "source": [
    "class foo:\n",
    "    def __init__(self)"
   ]
  },
  {
   "cell_type": "code",
   "execution_count": 60,
   "id": "fb091903",
   "metadata": {},
   "outputs": [],
   "source": [
    "class Example():\n",
    "    def example(self):\n",
    "        return self.test()\n",
    "    def test(self):\n",
    "        return \"example\"\n",
    "class Test(Example):\n",
    "    def test(self):\n",
    "        return \"Tes\""
   ]
  },
  {
   "cell_type": "code",
   "execution_count": 61,
   "id": "3476ec5f",
   "metadata": {},
   "outputs": [],
   "source": [
    "example_1 = Example()\n",
    "example_2 = Test()"
   ]
  },
  {
   "cell_type": "code",
   "execution_count": 64,
   "id": "d5a74e99",
   "metadata": {},
   "outputs": [
    {
     "name": "stdout",
     "output_type": "stream",
     "text": [
      "example Tes\n"
     ]
    }
   ],
   "source": [
    "print(Example().test(), Test().test())"
   ]
  },
  {
   "cell_type": "code",
   "execution_count": 65,
   "id": "2eaa4448",
   "metadata": {},
   "outputs": [],
   "source": [
    "def f():\n",
    "    yield True"
   ]
  },
  {
   "cell_type": "code",
   "execution_count": 66,
   "id": "c778122f",
   "metadata": {},
   "outputs": [],
   "source": [
    "g = f()"
   ]
  },
  {
   "cell_type": "code",
   "execution_count": 69,
   "id": "9af5e900",
   "metadata": {},
   "outputs": [],
   "source": [
    "h = next(g)"
   ]
  },
  {
   "cell_type": "code",
   "execution_count": 70,
   "id": "f00e2059",
   "metadata": {},
   "outputs": [
    {
     "data": {
      "text/plain": [
       "True"
      ]
     },
     "execution_count": 70,
     "metadata": {},
     "output_type": "execute_result"
    }
   ],
   "source": [
    "h"
   ]
  },
  {
   "cell_type": "code",
   "execution_count": 71,
   "id": "deaebc6a",
   "metadata": {},
   "outputs": [
    {
     "ename": "StopIteration",
     "evalue": "",
     "output_type": "error",
     "traceback": [
      "\u001b[1;31m---------------------------------------------------------------------------\u001b[0m",
      "\u001b[1;31mStopIteration\u001b[0m                             Traceback (most recent call last)",
      "Input \u001b[1;32mIn [71]\u001b[0m, in \u001b[0;36m<cell line: 1>\u001b[1;34m()\u001b[0m\n\u001b[1;32m----> 1\u001b[0m h \u001b[38;5;241m=\u001b[39m \u001b[38;5;28;43mnext\u001b[39;49m\u001b[43m(\u001b[49m\u001b[43mg\u001b[49m\u001b[43m)\u001b[49m\n",
      "\u001b[1;31mStopIteration\u001b[0m: "
     ]
    }
   ],
   "source": [
    "h = next(g)"
   ]
  },
  {
   "cell_type": "code",
   "execution_count": 76,
   "id": "3f59759a",
   "metadata": {},
   "outputs": [],
   "source": [
    "l = [0, 1, 2, 3, 4, 5, 6]\n",
    "def f1(x):\n",
    "    return x * 2\n",
    "def f2(x):\n",
    "    if x%2==0:\n",
    "        return True"
   ]
  },
  {
   "cell_type": "code",
   "execution_count": 78,
   "id": "0740a7fc",
   "metadata": {},
   "outputs": [
    {
     "data": {
      "text/plain": [
       "[0, 4, 8, 12]"
      ]
     },
     "execution_count": 78,
     "metadata": {},
     "output_type": "execute_result"
    }
   ],
   "source": [
    "[f1(x) for x in l if f2(x)]"
   ]
  },
  {
   "cell_type": "code",
   "execution_count": 80,
   "id": "b8cb0297",
   "metadata": {},
   "outputs": [
    {
     "ename": "TypeError",
     "evalue": "f1() takes 1 positional argument but 2 were given",
     "output_type": "error",
     "traceback": [
      "\u001b[1;31m---------------------------------------------------------------------------\u001b[0m",
      "\u001b[1;31mTypeError\u001b[0m                                 Traceback (most recent call last)",
      "Input \u001b[1;32mIn [80]\u001b[0m, in \u001b[0;36m<cell line: 2>\u001b[1;34m()\u001b[0m\n\u001b[0;32m      1\u001b[0m \u001b[38;5;28;01mimport\u001b[39;00m \u001b[38;5;21;01mfunctools\u001b[39;00m\n\u001b[1;32m----> 2\u001b[0m \u001b[43mfunctools\u001b[49m\u001b[38;5;241;43m.\u001b[39;49m\u001b[43mreduce\u001b[49m\u001b[43m(\u001b[49m\u001b[43mf1\u001b[49m\u001b[43m,\u001b[49m\u001b[43m \u001b[49m\u001b[38;5;28;43mlist\u001b[39;49m\u001b[43m(\u001b[49m\u001b[38;5;28;43mfilter\u001b[39;49m\u001b[43m(\u001b[49m\u001b[43mf2\u001b[49m\u001b[43m,\u001b[49m\u001b[43m \u001b[49m\u001b[43ml\u001b[49m\u001b[43m)\u001b[49m\u001b[43m)\u001b[49m\u001b[43m)\u001b[49m\n",
      "\u001b[1;31mTypeError\u001b[0m: f1() takes 1 positional argument but 2 were given"
     ]
    }
   ],
   "source": [
    "import functools\n",
    "functools.reduce(f1, list(filter(f2, l)))"
   ]
  },
  {
   "cell_type": "code",
   "execution_count": 81,
   "id": "ee1ae433",
   "metadata": {},
   "outputs": [
    {
     "ename": "TypeError",
     "evalue": "f2() takes 1 positional argument but 2 were given",
     "output_type": "error",
     "traceback": [
      "\u001b[1;31m---------------------------------------------------------------------------\u001b[0m",
      "\u001b[1;31mTypeError\u001b[0m                                 Traceback (most recent call last)",
      "Input \u001b[1;32mIn [81]\u001b[0m, in \u001b[0;36m<cell line: 1>\u001b[1;34m()\u001b[0m\n\u001b[1;32m----> 1\u001b[0m \u001b[38;5;28mlist\u001b[39m(\u001b[38;5;28mmap\u001b[39m(f1, \u001b[43mfunctools\u001b[49m\u001b[38;5;241;43m.\u001b[39;49m\u001b[43mreduce\u001b[49m\u001b[43m(\u001b[49m\u001b[43mf2\u001b[49m\u001b[43m,\u001b[49m\u001b[43m \u001b[49m\u001b[43ml\u001b[49m\u001b[43m)\u001b[49m))\n",
      "\u001b[1;31mTypeError\u001b[0m: f2() takes 1 positional argument but 2 were given"
     ]
    }
   ],
   "source": [
    "list(map(f1, functools.reduce(f2, l)))"
   ]
  },
  {
   "cell_type": "code",
   "execution_count": 82,
   "id": "aef84824",
   "metadata": {},
   "outputs": [
    {
     "data": {
      "text/plain": [
       "[0, 4, 8, 12]"
      ]
     },
     "execution_count": 82,
     "metadata": {},
     "output_type": "execute_result"
    }
   ],
   "source": [
    "list(map(f1, list(filter(f2, l))))"
   ]
  },
  {
   "cell_type": "code",
   "execution_count": 83,
   "id": "3246f01b",
   "metadata": {},
   "outputs": [
    {
     "ename": "TypeError",
     "evalue": "f1() takes 1 positional argument but 2 were given",
     "output_type": "error",
     "traceback": [
      "\u001b[1;31m---------------------------------------------------------------------------\u001b[0m",
      "\u001b[1;31mTypeError\u001b[0m                                 Traceback (most recent call last)",
      "Input \u001b[1;32mIn [83]\u001b[0m, in \u001b[0;36m<cell line: 1>\u001b[1;34m()\u001b[0m\n\u001b[1;32m----> 1\u001b[0m [\u001b[43mfunctools\u001b[49m\u001b[38;5;241;43m.\u001b[39;49m\u001b[43mreduce\u001b[49m\u001b[43m(\u001b[49m\u001b[43mf1\u001b[49m\u001b[43m,\u001b[49m\u001b[43m \u001b[49m\u001b[38;5;28;43mlist\u001b[39;49m\u001b[43m(\u001b[49m\u001b[38;5;28;43mfilter\u001b[39;49m\u001b[43m(\u001b[49m\u001b[43mf2\u001b[49m\u001b[43m,\u001b[49m\u001b[43m \u001b[49m\u001b[43ml\u001b[49m\u001b[43m)\u001b[49m\u001b[43m)\u001b[49m\u001b[43m)\u001b[49m]\n",
      "\u001b[1;31mTypeError\u001b[0m: f1() takes 1 positional argument but 2 were given"
     ]
    }
   ],
   "source": [
    "[functools.reduce(f1, list(filter(f2, l)))]"
   ]
  },
  {
   "cell_type": "code",
   "execution_count": 84,
   "id": "94504011",
   "metadata": {},
   "outputs": [
    {
     "ename": "NameError",
     "evalue": "name 'x' is not defined",
     "output_type": "error",
     "traceback": [
      "\u001b[1;31m---------------------------------------------------------------------------\u001b[0m",
      "\u001b[1;31mNameError\u001b[0m                                 Traceback (most recent call last)",
      "Input \u001b[1;32mIn [84]\u001b[0m, in \u001b[0;36m<cell line: 1>\u001b[1;34m()\u001b[0m\n\u001b[1;32m----> 1\u001b[0m \u001b[38;5;28mlist\u001b[39m(\u001b[38;5;28mmap\u001b[39m(f1(\u001b[43mx\u001b[49m), \u001b[38;5;28mlist\u001b[39m(\u001b[38;5;28mfilter\u001b[39m(f2(x), l))))\n",
      "\u001b[1;31mNameError\u001b[0m: name 'x' is not defined"
     ]
    }
   ],
   "source": [
    "list(map(f1(x), list(filter(f2(x), l))))"
   ]
  },
  {
   "cell_type": "code",
   "execution_count": 85,
   "id": "ad490ca5",
   "metadata": {},
   "outputs": [],
   "source": [
    "def print_result(num):\n",
    "    if num > 60:\n",
    "        print(\"positive\")\n",
    "    else:\n",
    "        print(\"begative\")\n",
    "def print_points(num):\n",
    "    print(\"points: {}\".format(num * 10))\n",
    "    "
   ]
  },
  {
   "cell_type": "code",
   "execution_count": 86,
   "id": "7ca9c422",
   "metadata": {},
   "outputs": [],
   "source": [
    "import threading"
   ]
  },
  {
   "cell_type": "code",
   "execution_count": 89,
   "id": "d8464201",
   "metadata": {},
   "outputs": [],
   "source": [
    "t1 = threading.Thread(target=print_result, args =(70,))\n",
    "t2 = threading.Thread(target=print_points, args=(8.5,))\n"
   ]
  },
  {
   "cell_type": "code",
   "execution_count": 90,
   "id": "afb29dd9",
   "metadata": {},
   "outputs": [
    {
     "name": "stdout",
     "output_type": "stream",
     "text": [
      "start\n",
      "positive\n",
      "points: 85.0\n",
      "running\n",
      "end\n"
     ]
    }
   ],
   "source": [
    "print(\"start\")\n",
    "t1.start()\n",
    "t2.start()\n",
    "print(\"running\")\n",
    "t1.join()\n",
    "t2.join()\n",
    "print(\"end\")"
   ]
  },
  {
   "cell_type": "code",
   "execution_count": 100,
   "id": "a5599e0d",
   "metadata": {},
   "outputs": [
    {
     "ename": "SyntaxError",
     "evalue": "invalid syntax (3541310050.py, line 5)",
     "output_type": "error",
     "traceback": [
      "\u001b[1;36m  Input \u001b[1;32mIn [100]\u001b[1;36m\u001b[0m\n\u001b[1;33m    except KeyError, vari:\u001b[0m\n\u001b[1;37m                   ^\u001b[0m\n\u001b[1;31mSyntaxError\u001b[0m\u001b[1;31m:\u001b[0m invalid syntax\n"
     ]
    }
   ],
   "source": [
    "#[1] + [2, 3]\n",
    "d = {}\n",
    "try:\n",
    "    d[1]\n",
    "except KeyError, vari:\n",
    "    print(vari)"
   ]
  },
  {
   "cell_type": "code",
   "execution_count": 102,
   "id": "60f3cc38",
   "metadata": {},
   "outputs": [
    {
     "ename": "IndentationError",
     "evalue": "expected an indented block (1788886776.py, line 3)",
     "output_type": "error",
     "traceback": [
      "\u001b[1;36m  Input \u001b[1;32mIn [102]\u001b[1;36m\u001b[0m\n\u001b[1;33m    except Exception, e:\u001b[0m\n\u001b[1;37m    ^\u001b[0m\n\u001b[1;31mIndentationError\u001b[0m\u001b[1;31m:\u001b[0m expected an indented block\n"
     ]
    }
   ],
   "source": [
    "try:\n",
    "    # stuff\n",
    "except Exception, e:\n",
    "    return 'exception %s' % type(e)"
   ]
  },
  {
   "cell_type": "code",
   "execution_count": 103,
   "id": "299448db",
   "metadata": {},
   "outputs": [],
   "source": [
    "n = 12\n",
    "names = [[]]*n\n",
    "employee = 'Adam'\n",
    "names[6].append(employee)"
   ]
  },
  {
   "cell_type": "code",
   "execution_count": 105,
   "id": "fb10e618",
   "metadata": {},
   "outputs": [
    {
     "name": "stdout",
     "output_type": "stream",
     "text": [
      "2\n",
      "3\n",
      "5\n",
      "7\n"
     ]
    }
   ],
   "source": [
    "for n in range(2, 10):\n",
    "    for x in range(2, n):\n",
    "        if n % x == 0:\n",
    "            break\n",
    "    else:\n",
    "        print(n)"
   ]
  },
  {
   "cell_type": "code",
   "execution_count": 106,
   "id": "7d75a242",
   "metadata": {},
   "outputs": [],
   "source": [
    "def foo(n):\n",
    "    var1, var2 = 0, 1\n",
    "    while var1 < n:\n",
    "        print(var1, end=\" \")\n",
    "        var1, var2 = var2, var1 + var2\n",
    "    print()"
   ]
  },
  {
   "cell_type": "code",
   "execution_count": 107,
   "id": "4879d638",
   "metadata": {},
   "outputs": [],
   "source": [
    "def bar(n):\n",
    "    result = []\n",
    "    var1, var2 = 0, 1\n",
    "    while var1 < n:\n",
    "        result.append(var1)\n",
    "        var1, var2 = var2, var1 + var2\n",
    "    return result"
   ]
  },
  {
   "cell_type": "code",
   "execution_count": 109,
   "id": "8a8e23ce",
   "metadata": {},
   "outputs": [],
   "source": [
    "import Model"
   ]
  },
  {
   "cell_type": "code",
   "execution_count": 112,
   "id": "045cbeb7",
   "metadata": {},
   "outputs": [
    {
     "data": {
      "text/plain": [
       "'Model'"
      ]
     },
     "execution_count": 112,
     "metadata": {},
     "output_type": "execute_result"
    }
   ],
   "source": [
    "Model.__name__"
   ]
  },
  {
   "cell_type": "code",
   "execution_count": 114,
   "id": "8b920deb",
   "metadata": {},
   "outputs": [
    {
     "name": "stdout",
     "output_type": "stream",
     "text": [
      "0 1 1 2 3 5 8 13 21 34 55 89 144 233 377 610 987 \n"
     ]
    }
   ],
   "source": [
    "foo(1000)"
   ]
  },
  {
   "cell_type": "code",
   "execution_count": 116,
   "id": "7ec15487",
   "metadata": {},
   "outputs": [],
   "source": [
    "class foo:\n",
    "    def __init__(self):\n",
    "        self.__bar = 123\n",
    "    def printBar(self):\n",
    "        print(self.__bar)"
   ]
  },
  {
   "cell_type": "code",
   "execution_count": 118,
   "id": "a1f41e26",
   "metadata": {},
   "outputs": [
    {
     "ename": "ModuleNotFoundError",
     "evalue": "No module named 'regex'",
     "output_type": "error",
     "traceback": [
      "\u001b[1;31m---------------------------------------------------------------------------\u001b[0m",
      "\u001b[1;31mModuleNotFoundError\u001b[0m                       Traceback (most recent call last)",
      "Input \u001b[1;32mIn [118]\u001b[0m, in \u001b[0;36m<cell line: 1>\u001b[1;34m()\u001b[0m\n\u001b[1;32m----> 1\u001b[0m \u001b[38;5;28;01mfrom\u001b[39;00m \u001b[38;5;21;01mregex\u001b[39;00m \u001b[38;5;28;01mimport\u001b[39;00m re\n",
      "\u001b[1;31mModuleNotFoundError\u001b[0m: No module named 'regex'"
     ]
    }
   ],
   "source": [
    "from regex import re"
   ]
  },
  {
   "cell_type": "code",
   "execution_count": 1,
   "id": "b8b2d5c7",
   "metadata": {},
   "outputs": [],
   "source": [
    "import matplotlib.pyplot as plt"
   ]
  },
  {
   "cell_type": "code",
   "execution_count": 2,
   "id": "730aa877",
   "metadata": {},
   "outputs": [],
   "source": [
    "%matplotlib inline"
   ]
  },
  {
   "cell_type": "code",
   "execution_count": 3,
   "id": "eeea2064",
   "metadata": {},
   "outputs": [],
   "source": [
    "c = {10: [0.7670670039653779, 0.7503], 20: [0.5315202480554581, 0.8163], 30: [0.417052907705307, 0.8366], 40: [0.34947053623199464, 0.8426], 50: [0.21037972316741943, 0.8845], 60: [0.12308746440708637, 0.8922], 70: [0.10112040436416865, 0.8946], 80: [0.08814770403578877, 0.8944], 90: [0.07764131800457835, 0.893], 100: [0.0674239999704063, 0.8964], 110: [0.057704628862440585, 0.8975], 120: [0.05664916457422078, 0.8979], 130: [0.0593867221981287, 0.8961], 140: [0.05420300501994789, 0.8971], 150: [0.05117503041960299, 0.8969], 160: [0.05425011232979596, 0.8962], 170: [0.053400037051737306, 0.8971], 180: [0.0495947775375098, 0.897], 190: [0.0526569432024844, 0.8966], 200: [0.05066709087714553, 0.8978]}\n"
   ]
  },
  {
   "cell_type": "code",
   "execution_count": 6,
   "id": "5b7a2913",
   "metadata": {},
   "outputs": [],
   "source": [
    "x = [k for k in c.keys()]\n",
    "y = [round(c[k][0], 4) for k in x]"
   ]
  },
  {
   "cell_type": "code",
   "execution_count": 7,
   "id": "9c40021c",
   "metadata": {},
   "outputs": [
    {
     "data": {
      "text/plain": [
       "[0.7671,\n",
       " 0.5315,\n",
       " 0.4171,\n",
       " 0.3495,\n",
       " 0.2104,\n",
       " 0.1231,\n",
       " 0.1011,\n",
       " 0.0881,\n",
       " 0.0776,\n",
       " 0.0674,\n",
       " 0.0577,\n",
       " 0.0566,\n",
       " 0.0594,\n",
       " 0.0542,\n",
       " 0.0512,\n",
       " 0.0543,\n",
       " 0.0534,\n",
       " 0.0496,\n",
       " 0.0527,\n",
       " 0.0507]"
      ]
     },
     "execution_count": 7,
     "metadata": {},
     "output_type": "execute_result"
    }
   ],
   "source": [
    "y"
   ]
  },
  {
   "cell_type": "code",
   "execution_count": 15,
   "id": "590e2a19",
   "metadata": {},
   "outputs": [
    {
     "data": {
      "text/plain": [
       "Text(0, 0.5, 'Training Loss')"
      ]
     },
     "execution_count": 15,
     "metadata": {},
     "output_type": "execute_result"
    },
    {
     "data": {
      "image/png": "[encoded data removed]",
      "text/plain": [
       "<Figure size 1500x1200 with 1 Axes>"
      ]
     },
     "metadata": {},
     "output_type": "display_data"
    }
   ],
   "source": [
    "plt.figure(figsize=(15, 12))\n",
    "plt.plot(x, y)\n",
    "plt.xticks(range(0, 210, 10))\n",
    "plt.xlabel(\"epoch\")\n",
    "plt.ylabel(\"Training Loss\")"
   ]
  },
  {
   "cell_type": "code",
   "execution_count": 18,
   "id": "22688e98",
   "metadata": {},
   "outputs": [],
   "source": [
    "x = [k for k in c.keys()]\n",
    "y = [100*round(c[k][1], 4) for k in x]"
   ]
  },
  {
   "cell_type": "code",
   "execution_count": 19,
   "id": "ef98e213",
   "metadata": {},
   "outputs": [
    {
     "data": {
      "text/plain": [
       "Text(0, 0.5, 'Validation Accuracy')"
      ]
     },
     "execution_count": 19,
     "metadata": {},
     "output_type": "execute_result"
    },
    {
     "data": {
      "image/png": "[encoded data removed]",
      "text/plain": [
       "<Figure size 1500x1200 with 1 Axes>"
      ]
     },
     "metadata": {},
     "output_type": "display_data"
    }
   ],
   "source": [
    "plt.figure(figsize=(15, 12))\n",
    "plt.plot(x, y)\n",
    "plt.xticks(range(0, 210, 10))\n",
    "plt.xlabel(\"epoch\")\n",
    "plt.ylabel(\"Validation Accuracy (%)\")"
   ]
  }
 ],
 "metadata": {
  "kernelspec": {
   "display_name": "Python 3 (ipykernel)",
   "language": "python",
   "name": "python3"
  },
  "language_info": {
   "codemirror_mode": {
    "name": "ipython",
    "version": 3
   },
   "file_extension": ".py",
   "mimetype": "text/x-python",
   "name": "python",
   "nbconvert_exporter": "python",
   "pygments_lexer": "ipython3",
   "version": "3.8.13"
  }
 },
 "nbformat": 4,
 "nbformat_minor": 5
}
